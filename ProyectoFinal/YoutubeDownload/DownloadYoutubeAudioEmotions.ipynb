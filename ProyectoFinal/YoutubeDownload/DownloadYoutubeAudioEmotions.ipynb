{
 "cells": [
  {
   "cell_type": "code",
   "execution_count": 1,
   "metadata": {},
   "outputs": [],
   "source": [
    "import youtube_dl\n",
    "import pandas as pd\n",
    "from pydub import AudioSegment\n",
    "from pydub.utils import which\n",
    "import subprocess\n",
    "import string\n",
    "import os\n",
    "\n"
   ]
  },
  {
   "cell_type": "code",
   "execution_count": 2,
   "metadata": {},
   "outputs": [],
   "source": [
    "def download_convert_and_dowload(audio_id,video_id,link,init_time,end_time,dir_storage,emotion):\n",
    "\n",
    "    segment_id = str(video_id)+\"-\"+str(audio_id);\n",
    "    directory = dir_storage+\"/\"+emotion;\n",
    "    \n",
    "    if not os.path.exists(directory):\n",
    "        os.makedirs(directory)\n",
    "\n",
    "    options = {\n",
    "        'format': 'bestaudio/best', # choice of quality\n",
    "        'extractaudio' : True,      # only keep the audio\n",
    "        'audioformat' : \"mp3\",      # convert to mp3 \n",
    "        'noplaylist' : True,\n",
    "        'outtmpl': dir_storage+\"/\"+str(video_id)+\".mp3\",        # name the file the ID of the video\n",
    "        }      \n",
    "    with youtube_dl.YoutubeDL(options) as ydl:\n",
    "        ydl.download([link])\n",
    "\n",
    "    # Transform to 16000Khz of sample rate\n",
    "    salida_wav = video_id+\".wav\";\n",
    "    entrada_mp3 = dir_storage+\"/\"+str(video_id)+\".mp3\";\n",
    "    subprocess.call(['ffmpeg','-i',entrada_mp3,'-acodec', 'pcm_s16le', '-ar', '16000',salida_wav])\n",
    "\n",
    "    # print(directory+\"/\"+segment_id+'.wav')\n",
    "\n",
    "    # cut specific parts}\n",
    "    output_dir = directory+\"/\"+segment_id+\".wav\";\n",
    "    subprocess.call(['ffmpeg','-i', salida_wav,'-ss', init_time, '-to', end_time, \n",
    "                     '-c','copy',output_dir])\n",
    "\n"
   ]
  },
  {
   "cell_type": "code",
   "execution_count": 3,
   "metadata": {},
   "outputs": [
    {
     "data": {
      "text/html": [
       "<div>\n",
       "<style scoped>\n",
       "    .dataframe tbody tr th:only-of-type {\n",
       "        vertical-align: middle;\n",
       "    }\n",
       "\n",
       "    .dataframe tbody tr th {\n",
       "        vertical-align: top;\n",
       "    }\n",
       "\n",
       "    .dataframe thead th {\n",
       "        text-align: right;\n",
       "    }\n",
       "</style>\n",
       "<table border=\"1\" class=\"dataframe\">\n",
       "  <thead>\n",
       "    <tr style=\"text-align: right;\">\n",
       "      <th></th>\n",
       "      <th>id</th>\n",
       "      <th>video_id</th>\n",
       "      <th>link</th>\n",
       "      <th>init_time</th>\n",
       "      <th>end_time</th>\n",
       "      <th>emotion</th>\n",
       "    </tr>\n",
       "  </thead>\n",
       "  <tbody>\n",
       "    <tr>\n",
       "      <th>0</th>\n",
       "      <td>0</td>\n",
       "      <td>0</td>\n",
       "      <td>https://www.youtube.com/watch?v=CUYiX6vgY6c</td>\n",
       "      <td>00:00:06</td>\n",
       "      <td>00:00:12</td>\n",
       "      <td>anger</td>\n",
       "    </tr>\n",
       "    <tr>\n",
       "      <th>1</th>\n",
       "      <td>1</td>\n",
       "      <td>0</td>\n",
       "      <td>https://www.youtube.com/watch?v=CUYiX6vgY6c</td>\n",
       "      <td>00:01:14</td>\n",
       "      <td>00:01:20</td>\n",
       "      <td>anger</td>\n",
       "    </tr>\n",
       "    <tr>\n",
       "      <th>2</th>\n",
       "      <td>2</td>\n",
       "      <td>0</td>\n",
       "      <td>https://www.youtube.com/watch?v=CUYiX6vgY6c</td>\n",
       "      <td>00:01:25</td>\n",
       "      <td>00:01:30</td>\n",
       "      <td>anger</td>\n",
       "    </tr>\n",
       "    <tr>\n",
       "      <th>3</th>\n",
       "      <td>3</td>\n",
       "      <td>1</td>\n",
       "      <td>https://www.youtube.com/watch?v=X7cRlyhDn3o</td>\n",
       "      <td>00:01:05</td>\n",
       "      <td>00:01:08</td>\n",
       "      <td>sadness</td>\n",
       "    </tr>\n",
       "    <tr>\n",
       "      <th>4</th>\n",
       "      <td>4</td>\n",
       "      <td>1</td>\n",
       "      <td>https://www.youtube.com/watch?v=X7cRlyhDn3o</td>\n",
       "      <td>00:03:30</td>\n",
       "      <td>00:03:05</td>\n",
       "      <td>surprise</td>\n",
       "    </tr>\n",
       "  </tbody>\n",
       "</table>\n",
       "</div>"
      ],
      "text/plain": [
       "   id  video_id                                         link init_time  \\\n",
       "0   0         0  https://www.youtube.com/watch?v=CUYiX6vgY6c  00:00:06   \n",
       "1   1         0  https://www.youtube.com/watch?v=CUYiX6vgY6c  00:01:14   \n",
       "2   2         0  https://www.youtube.com/watch?v=CUYiX6vgY6c  00:01:25   \n",
       "3   3         1  https://www.youtube.com/watch?v=X7cRlyhDn3o  00:01:05   \n",
       "4   4         1  https://www.youtube.com/watch?v=X7cRlyhDn3o  00:03:30   \n",
       "\n",
       "   end_time   emotion  \n",
       "0  00:00:12     anger  \n",
       "1  00:01:20     anger  \n",
       "2  00:01:30     anger  \n",
       "3  00:01:08   sadness  \n",
       "4  00:03:05  surprise  "
      ]
     },
     "execution_count": 3,
     "metadata": {},
     "output_type": "execute_result"
    }
   ],
   "source": [
    "df = pd.read_csv(\"youtube.csv\", sep=',')\n",
    "df.head()\n",
    "\n"
   ]
  },
  {
   "cell_type": "code",
   "execution_count": 4,
   "metadata": {},
   "outputs": [
    {
     "name": "stdout",
     "output_type": "stream",
     "text": [
      "Procesando los audios del video https://www.youtube.com/watch?v=CUYiX6vgY6c id: 0\n",
      "[youtube] CUYiX6vgY6c: Downloading webpage\n",
      "[youtube] CUYiX6vgY6c: Downloading video info webpage\n",
      "[youtube] CUYiX6vgY6c: Extracting video information\n",
      "[download] /home/neriomoran/MachineLearning/AudioProcessing/EmocionesAudio/0.mp3 has already been downloaded\n",
      "[download] 100% of 2.18MiB\n",
      "[ffmpeg] Correcting container in \"/home/neriomoran/MachineLearning/AudioProcessing/EmocionesAudio/0.mp3\"\n"
     ]
    },
    {
     "ename": "KeyboardInterrupt",
     "evalue": "",
     "output_type": "error",
     "traceback": [
      "\u001b[0;31m---------------------------------------------------------------------------\u001b[0m",
      "\u001b[0;31mKeyboardInterrupt\u001b[0m                         Traceback (most recent call last)",
      "\u001b[0;32m<ipython-input-4-62974225c281>\u001b[0m in \u001b[0;36m<module>\u001b[0;34m()\u001b[0m\n\u001b[1;32m      3\u001b[0m     \u001b[0mprint\u001b[0m\u001b[0;34m(\u001b[0m\u001b[0;34m\"Procesando los audios del video {0} id: {1}\"\u001b[0m\u001b[0;34m.\u001b[0m\u001b[0mformat\u001b[0m\u001b[0;34m(\u001b[0m\u001b[0mdf\u001b[0m\u001b[0;34m.\u001b[0m\u001b[0mlink\u001b[0m\u001b[0;34m[\u001b[0m\u001b[0mi\u001b[0m\u001b[0;34m]\u001b[0m\u001b[0;34m,\u001b[0m\u001b[0mdf\u001b[0m\u001b[0;34m.\u001b[0m\u001b[0mvideo_id\u001b[0m\u001b[0;34m[\u001b[0m\u001b[0mi\u001b[0m\u001b[0;34m]\u001b[0m\u001b[0;34m)\u001b[0m\u001b[0;34m)\u001b[0m\u001b[0;34m\u001b[0m\u001b[0m\n\u001b[1;32m      4\u001b[0m     download_convert_and_dowload(str(df.id[i]),str(df.video_id[i]),str(df.link[i]),str(df.init_time[i]),str(df.end_time[i]),\n\u001b[0;32m----> 5\u001b[0;31m                              \"/home/neriomoran/MachineLearning/AudioProcessing/EmocionesAudio\",str(df.emotion[i]))\n\u001b[0m",
      "\u001b[0;32m<ipython-input-2-e19cbe5c292f>\u001b[0m in \u001b[0;36mdownload_convert_and_dowload\u001b[0;34m(audio_id, video_id, link, init_time, end_time, dir_storage, emotion)\u001b[0m\n\u001b[1;32m     20\u001b[0m     \u001b[0msalida_wav\u001b[0m \u001b[0;34m=\u001b[0m \u001b[0mvideo_id\u001b[0m\u001b[0;34m+\u001b[0m\u001b[0;34m\".wav\"\u001b[0m\u001b[0;34m;\u001b[0m\u001b[0;34m\u001b[0m\u001b[0m\n\u001b[1;32m     21\u001b[0m     \u001b[0mentrada_mp3\u001b[0m \u001b[0;34m=\u001b[0m \u001b[0mdir_storage\u001b[0m\u001b[0;34m+\u001b[0m\u001b[0;34m\"/\"\u001b[0m\u001b[0;34m+\u001b[0m\u001b[0mstr\u001b[0m\u001b[0;34m(\u001b[0m\u001b[0mvideo_id\u001b[0m\u001b[0;34m)\u001b[0m\u001b[0;34m+\u001b[0m\u001b[0;34m\".mp3\"\u001b[0m\u001b[0;34m;\u001b[0m\u001b[0;34m\u001b[0m\u001b[0m\n\u001b[0;32m---> 22\u001b[0;31m     \u001b[0msubprocess\u001b[0m\u001b[0;34m.\u001b[0m\u001b[0mcall\u001b[0m\u001b[0;34m(\u001b[0m\u001b[0;34m[\u001b[0m\u001b[0;34m'ffmpeg'\u001b[0m\u001b[0;34m,\u001b[0m\u001b[0;34m'-i'\u001b[0m\u001b[0;34m,\u001b[0m\u001b[0mentrada_mp3\u001b[0m\u001b[0;34m,\u001b[0m\u001b[0;34m'-acodec'\u001b[0m\u001b[0;34m,\u001b[0m \u001b[0;34m'pcm_s16le'\u001b[0m\u001b[0;34m,\u001b[0m \u001b[0;34m'-ar'\u001b[0m\u001b[0;34m,\u001b[0m \u001b[0;34m'16000'\u001b[0m\u001b[0;34m,\u001b[0m\u001b[0msalida_wav\u001b[0m\u001b[0;34m]\u001b[0m\u001b[0;34m)\u001b[0m\u001b[0;34m\u001b[0m\u001b[0m\n\u001b[0m\u001b[1;32m     23\u001b[0m \u001b[0;34m\u001b[0m\u001b[0m\n\u001b[1;32m     24\u001b[0m     \u001b[0;31m# print(directory+\"/\"+segment_id+'.wav')\u001b[0m\u001b[0;34m\u001b[0m\u001b[0;34m\u001b[0m\u001b[0m\n",
      "\u001b[0;32m~/anaconda3/lib/python3.6/subprocess.py\u001b[0m in \u001b[0;36mcall\u001b[0;34m(timeout, *popenargs, **kwargs)\u001b[0m\n\u001b[1;32m    267\u001b[0m     \u001b[0;32mwith\u001b[0m \u001b[0mPopen\u001b[0m\u001b[0;34m(\u001b[0m\u001b[0;34m*\u001b[0m\u001b[0mpopenargs\u001b[0m\u001b[0;34m,\u001b[0m \u001b[0;34m**\u001b[0m\u001b[0mkwargs\u001b[0m\u001b[0;34m)\u001b[0m \u001b[0;32mas\u001b[0m \u001b[0mp\u001b[0m\u001b[0;34m:\u001b[0m\u001b[0;34m\u001b[0m\u001b[0m\n\u001b[1;32m    268\u001b[0m         \u001b[0;32mtry\u001b[0m\u001b[0;34m:\u001b[0m\u001b[0;34m\u001b[0m\u001b[0m\n\u001b[0;32m--> 269\u001b[0;31m             \u001b[0;32mreturn\u001b[0m \u001b[0mp\u001b[0m\u001b[0;34m.\u001b[0m\u001b[0mwait\u001b[0m\u001b[0;34m(\u001b[0m\u001b[0mtimeout\u001b[0m\u001b[0;34m=\u001b[0m\u001b[0mtimeout\u001b[0m\u001b[0;34m)\u001b[0m\u001b[0;34m\u001b[0m\u001b[0m\n\u001b[0m\u001b[1;32m    270\u001b[0m         \u001b[0;32mexcept\u001b[0m\u001b[0;34m:\u001b[0m\u001b[0;34m\u001b[0m\u001b[0m\n\u001b[1;32m    271\u001b[0m             \u001b[0mp\u001b[0m\u001b[0;34m.\u001b[0m\u001b[0mkill\u001b[0m\u001b[0;34m(\u001b[0m\u001b[0;34m)\u001b[0m\u001b[0;34m\u001b[0m\u001b[0m\n",
      "\u001b[0;32m~/anaconda3/lib/python3.6/subprocess.py\u001b[0m in \u001b[0;36mwait\u001b[0;34m(self, timeout, endtime)\u001b[0m\n\u001b[1;32m   1455\u001b[0m                         \u001b[0;32mif\u001b[0m \u001b[0mself\u001b[0m\u001b[0;34m.\u001b[0m\u001b[0mreturncode\u001b[0m \u001b[0;32mis\u001b[0m \u001b[0;32mnot\u001b[0m \u001b[0;32mNone\u001b[0m\u001b[0;34m:\u001b[0m\u001b[0;34m\u001b[0m\u001b[0m\n\u001b[1;32m   1456\u001b[0m                             \u001b[0;32mbreak\u001b[0m  \u001b[0;31m# Another thread waited.\u001b[0m\u001b[0;34m\u001b[0m\u001b[0m\n\u001b[0;32m-> 1457\u001b[0;31m                         \u001b[0;34m(\u001b[0m\u001b[0mpid\u001b[0m\u001b[0;34m,\u001b[0m \u001b[0msts\u001b[0m\u001b[0;34m)\u001b[0m \u001b[0;34m=\u001b[0m \u001b[0mself\u001b[0m\u001b[0;34m.\u001b[0m\u001b[0m_try_wait\u001b[0m\u001b[0;34m(\u001b[0m\u001b[0;36m0\u001b[0m\u001b[0;34m)\u001b[0m\u001b[0;34m\u001b[0m\u001b[0m\n\u001b[0m\u001b[1;32m   1458\u001b[0m                         \u001b[0;31m# Check the pid and loop as waitpid has been known to\u001b[0m\u001b[0;34m\u001b[0m\u001b[0;34m\u001b[0m\u001b[0m\n\u001b[1;32m   1459\u001b[0m                         \u001b[0;31m# return 0 even without WNOHANG in odd situations.\u001b[0m\u001b[0;34m\u001b[0m\u001b[0;34m\u001b[0m\u001b[0m\n",
      "\u001b[0;32m~/anaconda3/lib/python3.6/subprocess.py\u001b[0m in \u001b[0;36m_try_wait\u001b[0;34m(self, wait_flags)\u001b[0m\n\u001b[1;32m   1402\u001b[0m             \u001b[0;34m\"\"\"All callers to this function MUST hold self._waitpid_lock.\"\"\"\u001b[0m\u001b[0;34m\u001b[0m\u001b[0m\n\u001b[1;32m   1403\u001b[0m             \u001b[0;32mtry\u001b[0m\u001b[0;34m:\u001b[0m\u001b[0;34m\u001b[0m\u001b[0m\n\u001b[0;32m-> 1404\u001b[0;31m                 \u001b[0;34m(\u001b[0m\u001b[0mpid\u001b[0m\u001b[0;34m,\u001b[0m \u001b[0msts\u001b[0m\u001b[0;34m)\u001b[0m \u001b[0;34m=\u001b[0m \u001b[0mos\u001b[0m\u001b[0;34m.\u001b[0m\u001b[0mwaitpid\u001b[0m\u001b[0;34m(\u001b[0m\u001b[0mself\u001b[0m\u001b[0;34m.\u001b[0m\u001b[0mpid\u001b[0m\u001b[0;34m,\u001b[0m \u001b[0mwait_flags\u001b[0m\u001b[0;34m)\u001b[0m\u001b[0;34m\u001b[0m\u001b[0m\n\u001b[0m\u001b[1;32m   1405\u001b[0m             \u001b[0;32mexcept\u001b[0m \u001b[0mChildProcessError\u001b[0m\u001b[0;34m:\u001b[0m\u001b[0;34m\u001b[0m\u001b[0m\n\u001b[1;32m   1406\u001b[0m                 \u001b[0;31m# This happens if SIGCLD is set to be ignored or waiting\u001b[0m\u001b[0;34m\u001b[0m\u001b[0;34m\u001b[0m\u001b[0m\n",
      "\u001b[0;31mKeyboardInterrupt\u001b[0m: "
     ]
    }
   ],
   "source": [
    "\n",
    "for i in range(len(df)):\n",
    "    print(\"Procesando los audios del video {0} id: {1}\".format(df.link[i],df.video_id[i]))\n",
    "    download_convert_and_dowload(str(df.id[i]),str(df.video_id[i]),str(df.link[i]),str(df.init_time[i]),str(df.end_time[i]),\n",
    "                             \"/home/neriomoran/Escritorio/ProyectoSeminario/ProyectoFinal/YoutubeDownload/\",str(df.emotion[i]))\n"
   ]
  },
  {
   "cell_type": "code",
   "execution_count": null,
   "metadata": {},
   "outputs": [],
   "source": []
  }
 ],
 "metadata": {
  "kernelspec": {
   "display_name": "Python 3",
   "language": "python",
   "name": "python3"
  },
  "language_info": {
   "codemirror_mode": {
    "name": "ipython",
    "version": 3
   },
   "file_extension": ".py",
   "mimetype": "text/x-python",
   "name": "python",
   "nbconvert_exporter": "python",
   "pygments_lexer": "ipython3",
   "version": "3.6.3"
  }
 },
 "nbformat": 4,
 "nbformat_minor": 2
}

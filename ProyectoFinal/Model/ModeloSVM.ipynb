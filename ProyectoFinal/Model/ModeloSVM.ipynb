{
 "cells": [
  {
   "cell_type": "markdown",
   "metadata": {},
   "source": [
    "# Modelo de Apredizaje automatico\n",
    "\n",
    "\n",
    "### Nerio Morán CI: 23.556.790\n"
   ]
  },
  {
   "cell_type": "markdown",
   "metadata": {},
   "source": [
    "# Base de datos Emocional\n",
    "\n",
    "\n",
    "Unos de los topicos de mayor interes en la interaccion humano robot, es la identificacion de emociones a través de diferentes entradas. Una de las entradas de mayor estudio corresponde a las imagenes de rostros de personas. Aunque existen muchos estudios que demuestran tener una gran precision para determinar una emocion a traves de esta entrada, muhas veces el tipo de aplicacion que se les da a estos clasificadores no permite que se pueda captar de manera adeacuada el rostro de una persona, es por esto que las investigaciones actuales se centran en otros tipos de entradas como: La voz, el ritmo cardiaco, señales inalambricas, señales musculares entre otros.\n",
    "\n",
    "\n",
    "Para esta investigacion se hizo una base de datos emocional, cuya entrada es la voz. Los datos fueron extraidos de expresiones, reacciones, blogs de videos en youtube. Ciertos criterios fueros tomados para la seleccion de segmento de audio, cada audio tiene un tamaño de 2 a 6 segundos. Fueron transformados a formato wav con una frecuencia de muestreo de 16Khz y una taza de bits de 256."
   ]
  },
  {
   "cell_type": "markdown",
   "metadata": {},
   "source": [
    "## Utilidades\n"
   ]
  },
  {
   "cell_type": "code",
   "execution_count": 31,
   "metadata": {},
   "outputs": [],
   "source": [
    "import pyaudio\n",
    "import wave\n",
    "import pandas as pd\n",
    "from sklearn.model_selection import train_test_split\n",
    "import numpy as np\n",
    "from sklearn import svm, datasets\n",
    "from mlxtend.plotting import plot_decision_regions\n",
    "import matplotlib.pyplot as plt\n",
    "%matplotlib inline\n",
    "CHUNK = 1024\n"
   ]
  },
  {
   "cell_type": "code",
   "execution_count": 32,
   "metadata": {},
   "outputs": [],
   "source": [
    "def play_wav(wav_filename, chunk_size=CHUNK):\n",
    "    '''\n",
    "    Play (on the attached system sound device) the WAV file\n",
    "    named wav_filename.\n",
    "    '''\n",
    "\n",
    "    try:\n",
    "        print (\"Trying to play file \" + wav_filename)\n",
    "        wf = wave.open(wav_filename, 'rb')\n",
    "    except IOError as ioe:\n",
    "        sys.stderr.write('IOError on file ' + wav_filename + '\\n' + \\\n",
    "        str(ioe) + '. Skipping.\\n')\n",
    "        return\n",
    "    except EOFError as eofe:\n",
    "        sys.stderr.write('EOFError on file ' + wav_filename + '\\n' + \\\n",
    "        str(eofe) + '. Skipping.\\n')\n",
    "        return\n",
    "\n",
    "    # Instantiate PyAudio.\n",
    "    p = pyaudio.PyAudio()\n",
    "\n",
    "    # Open stream.\n",
    "    stream = p.open(format=p.get_format_from_width(wf.getsampwidth()),\n",
    "        channels=wf.getnchannels(),\n",
    "        rate=wf.getframerate(),\n",
    "                    output=True)\n",
    "\n",
    "    data = wf.readframes(chunk_size)\n",
    "    while len(data) > 0:\n",
    "        stream.write(data)\n",
    "        data = wf.readframes(chunk_size)\n",
    "\n",
    "    # Stop stream.\n",
    "    stream.stop_stream()\n",
    "    stream.close()\n",
    "\n",
    "    # Close PyAudio.\n",
    "    p.terminate()\n"
   ]
  },
  {
   "cell_type": "code",
   "execution_count": 33,
   "metadata": {},
   "outputs": [
    {
     "name": "stdout",
     "output_type": "stream",
     "text": [
      "Trying to play file /home/neriomoran/MachineLearning/AudioProcessing/EmocionesAudio/anger/0-1.wav\n",
      "Trying to play file /home/neriomoran/MachineLearning/AudioProcessing/EmocionesAudio/anger/6-27.wav\n"
     ]
    }
   ],
   "source": [
    "# Ira\n",
    "play_wav(\"/home/neriomoran/MachineLearning/AudioProcessing/EmocionesAudio/anger/0-1.wav\",CHUNK);\n",
    "play_wav(\"/home/neriomoran/MachineLearning/AudioProcessing/EmocionesAudio/anger/6-27.wav\",CHUNK);"
   ]
  },
  {
   "cell_type": "code",
   "execution_count": 34,
   "metadata": {},
   "outputs": [
    {
     "name": "stdout",
     "output_type": "stream",
     "text": [
      "Trying to play file /home/neriomoran/MachineLearning/AudioProcessing/EmocionesAudio/disgust/3-12.wav\n",
      "Trying to play file /home/neriomoran/MachineLearning/AudioProcessing/EmocionesAudio/disgust/12-67.wav\n"
     ]
    }
   ],
   "source": [
    "# Disgusto\n",
    "play_wav(\"/home/neriomoran/MachineLearning/AudioProcessing/EmocionesAudio/disgust/3-12.wav\",CHUNK);\n",
    "play_wav(\"/home/neriomoran/MachineLearning/AudioProcessing/EmocionesAudio/disgust/12-67.wav\",CHUNK);"
   ]
  },
  {
   "cell_type": "code",
   "execution_count": 35,
   "metadata": {},
   "outputs": [
    {
     "name": "stdout",
     "output_type": "stream",
     "text": [
      "Trying to play file /home/neriomoran/MachineLearning/AudioProcessing/EmocionesAudio/fear/10-54.wav\n",
      "Trying to play file /home/neriomoran/MachineLearning/AudioProcessing/EmocionesAudio/fear/11-66.wav\n"
     ]
    }
   ],
   "source": [
    "# Miedo\n",
    "play_wav(\"/home/neriomoran/MachineLearning/AudioProcessing/EmocionesAudio/fear/10-54.wav\",CHUNK);\n",
    "play_wav(\"/home/neriomoran/MachineLearning/AudioProcessing/EmocionesAudio/fear/11-66.wav\",CHUNK);"
   ]
  },
  {
   "cell_type": "code",
   "execution_count": 36,
   "metadata": {},
   "outputs": [
    {
     "name": "stdout",
     "output_type": "stream",
     "text": [
      "Trying to play file /home/neriomoran/MachineLearning/AudioProcessing/EmocionesAudio/sadness/5-21.wav\n",
      "Trying to play file /home/neriomoran/MachineLearning/AudioProcessing/EmocionesAudio/sadness/5-24.wav\n"
     ]
    }
   ],
   "source": [
    "#Tristeza\n",
    "play_wav(\"/home/neriomoran/MachineLearning/AudioProcessing/EmocionesAudio/sadness/5-21.wav\",CHUNK);\n",
    "play_wav(\"/home/neriomoran/MachineLearning/AudioProcessing/EmocionesAudio/sadness/5-24.wav\",CHUNK);"
   ]
  },
  {
   "cell_type": "code",
   "execution_count": 37,
   "metadata": {},
   "outputs": [
    {
     "name": "stdout",
     "output_type": "stream",
     "text": [
      "Trying to play file /home/neriomoran/MachineLearning/AudioProcessing/EmocionesAudio/surprise/3-10.wav\n",
      "Trying to play file /home/neriomoran/MachineLearning/AudioProcessing/EmocionesAudio/surprise/3-11.wav\n"
     ]
    }
   ],
   "source": [
    "#Sorpresa\n",
    "play_wav(\"/home/neriomoran/MachineLearning/AudioProcessing/EmocionesAudio/surprise/3-10.wav\",CHUNK);\n",
    "play_wav(\"/home/neriomoran/MachineLearning/AudioProcessing/EmocionesAudio/surprise/3-11.wav\",CHUNK);"
   ]
  },
  {
   "cell_type": "code",
   "execution_count": 38,
   "metadata": {},
   "outputs": [
    {
     "name": "stdout",
     "output_type": "stream",
     "text": [
      "Trying to play file /home/neriomoran/MachineLearning/AudioProcessing/EmocionesAudio/happiness/7-30.wav\n",
      "Trying to play file /home/neriomoran/MachineLearning/AudioProcessing/EmocionesAudio/happiness/7-31.wav\n",
      "Trying to play file /home/neriomoran/MachineLearning/AudioProcessing/EmocionesAudio/happiness/7-32.wav\n"
     ]
    }
   ],
   "source": [
    "# Felicidad\n",
    "play_wav(\"/home/neriomoran/MachineLearning/AudioProcessing/EmocionesAudio/happiness/7-30.wav\",CHUNK);\n",
    "play_wav(\"/home/neriomoran/MachineLearning/AudioProcessing/EmocionesAudio/happiness/7-31.wav\",CHUNK);\n",
    "play_wav(\"/home/neriomoran/MachineLearning/AudioProcessing/EmocionesAudio/happiness/7-32.wav\",CHUNK);"
   ]
  },
  {
   "cell_type": "markdown",
   "metadata": {},
   "source": [
    "## Los datos consisten en los siguiente:\n",
    "\n",
    "### Atributos (caracteristicas) del conjunto de datos:\n",
    "- 1) Taza de cruces por zero (promedio)\n",
    "- 2) Energia ó Potencia de la señal.  (promedio)\n",
    "- 3) Entropia de la energia.  (promedio)\n",
    "- 4) Centroide Espectral.  (promedio)\n",
    "- 5) Tono.  (promedio)\n",
    "- 6) Entropia espectral.  (promedio)\n",
    "- 7) Flujo espectral.  (promedio)\n",
    "- 8) Caida espectral.  (promedio)\n",
    "- 9-21) Coeficientes de Mel MFFCs.  (promedio)\n",
    "- 22-33) Vector cromatico.  (promedio)\n",
    "- 34)  Desviacion estandar del vector cromatico.  (promedio)\n",
    "- 34-68)  Desviacion estandar de cada uno de los 34 atributos anteriores.\n",
    "\n",
    "### Clases objetivo para predecir:\n",
    "- anger\n",
    "- disgust\n",
    "- happiness\n",
    "- suprise\n",
    "- sadness\n",
    "- fear"
   ]
  },
  {
   "cell_type": "code",
   "execution_count": 39,
   "metadata": {},
   "outputs": [
    {
     "data": {
      "text/html": [
       "<div>\n",
       "<style scoped>\n",
       "    .dataframe tbody tr th:only-of-type {\n",
       "        vertical-align: middle;\n",
       "    }\n",
       "\n",
       "    .dataframe tbody tr th {\n",
       "        vertical-align: top;\n",
       "    }\n",
       "\n",
       "    .dataframe thead th {\n",
       "        text-align: right;\n",
       "    }\n",
       "</style>\n",
       "<table border=\"1\" class=\"dataframe\">\n",
       "  <thead>\n",
       "    <tr style=\"text-align: right;\">\n",
       "      <th></th>\n",
       "      <th>Unnamed: 0</th>\n",
       "      <th>ZCR</th>\n",
       "      <th>Energy</th>\n",
       "      <th>Entropy Of Enery</th>\n",
       "      <th>Spectral Centroid</th>\n",
       "      <th>Pitch</th>\n",
       "      <th>Spectral Entropy</th>\n",
       "      <th>Spectral Flux</th>\n",
       "      <th>Spectral Roll-off</th>\n",
       "      <th>MFCC1</th>\n",
       "      <th>...</th>\n",
       "      <th>std26</th>\n",
       "      <th>std27</th>\n",
       "      <th>std28</th>\n",
       "      <th>std29</th>\n",
       "      <th>std30</th>\n",
       "      <th>std31</th>\n",
       "      <th>std32</th>\n",
       "      <th>std33</th>\n",
       "      <th>std34</th>\n",
       "      <th>Emotion</th>\n",
       "    </tr>\n",
       "  </thead>\n",
       "  <tbody>\n",
       "    <tr>\n",
       "      <th>0</th>\n",
       "      <td>0</td>\n",
       "      <td>0.140801</td>\n",
       "      <td>0.034542</td>\n",
       "      <td>2.998446</td>\n",
       "      <td>0.219739</td>\n",
       "      <td>145.967642</td>\n",
       "      <td>1.269595</td>\n",
       "      <td>0.012848</td>\n",
       "      <td>0.238729</td>\n",
       "      <td>-24.386967</td>\n",
       "      <td>...</td>\n",
       "      <td>0.015261</td>\n",
       "      <td>0.033089</td>\n",
       "      <td>0.023998</td>\n",
       "      <td>0.015884</td>\n",
       "      <td>0.020840</td>\n",
       "      <td>0.010203</td>\n",
       "      <td>0.012469</td>\n",
       "      <td>0.005193</td>\n",
       "      <td>0.011702</td>\n",
       "      <td>anger</td>\n",
       "    </tr>\n",
       "    <tr>\n",
       "      <th>1</th>\n",
       "      <td>1</td>\n",
       "      <td>0.143055</td>\n",
       "      <td>0.033249</td>\n",
       "      <td>2.991923</td>\n",
       "      <td>0.224251</td>\n",
       "      <td>139.089194</td>\n",
       "      <td>1.372993</td>\n",
       "      <td>0.011736</td>\n",
       "      <td>0.250292</td>\n",
       "      <td>-23.979904</td>\n",
       "      <td>...</td>\n",
       "      <td>0.027955</td>\n",
       "      <td>0.025066</td>\n",
       "      <td>0.026130</td>\n",
       "      <td>0.021838</td>\n",
       "      <td>0.009046</td>\n",
       "      <td>0.015774</td>\n",
       "      <td>0.011017</td>\n",
       "      <td>0.005344</td>\n",
       "      <td>0.012365</td>\n",
       "      <td>anger</td>\n",
       "    </tr>\n",
       "    <tr>\n",
       "      <th>2</th>\n",
       "      <td>2</td>\n",
       "      <td>0.132020</td>\n",
       "      <td>0.039794</td>\n",
       "      <td>2.991409</td>\n",
       "      <td>0.209182</td>\n",
       "      <td>125.161082</td>\n",
       "      <td>1.212463</td>\n",
       "      <td>0.013576</td>\n",
       "      <td>0.211296</td>\n",
       "      <td>-24.659123</td>\n",
       "      <td>...</td>\n",
       "      <td>0.017757</td>\n",
       "      <td>0.033223</td>\n",
       "      <td>0.027783</td>\n",
       "      <td>0.017269</td>\n",
       "      <td>0.020207</td>\n",
       "      <td>0.014235</td>\n",
       "      <td>0.010521</td>\n",
       "      <td>0.005646</td>\n",
       "      <td>0.010771</td>\n",
       "      <td>anger</td>\n",
       "    </tr>\n",
       "    <tr>\n",
       "      <th>3</th>\n",
       "      <td>3</td>\n",
       "      <td>0.148990</td>\n",
       "      <td>0.029246</td>\n",
       "      <td>3.095875</td>\n",
       "      <td>0.214586</td>\n",
       "      <td>95.731363</td>\n",
       "      <td>1.440230</td>\n",
       "      <td>0.009391</td>\n",
       "      <td>0.247760</td>\n",
       "      <td>-23.407225</td>\n",
       "      <td>...</td>\n",
       "      <td>0.011519</td>\n",
       "      <td>0.028429</td>\n",
       "      <td>0.014736</td>\n",
       "      <td>0.002561</td>\n",
       "      <td>0.006249</td>\n",
       "      <td>0.012041</td>\n",
       "      <td>0.010141</td>\n",
       "      <td>0.013420</td>\n",
       "      <td>0.008775</td>\n",
       "      <td>anger</td>\n",
       "    </tr>\n",
       "    <tr>\n",
       "      <th>4</th>\n",
       "      <td>4</td>\n",
       "      <td>0.144013</td>\n",
       "      <td>0.033666</td>\n",
       "      <td>3.123097</td>\n",
       "      <td>0.215850</td>\n",
       "      <td>155.737917</td>\n",
       "      <td>1.357218</td>\n",
       "      <td>0.009991</td>\n",
       "      <td>0.221917</td>\n",
       "      <td>-23.160479</td>\n",
       "      <td>...</td>\n",
       "      <td>0.021216</td>\n",
       "      <td>0.016150</td>\n",
       "      <td>0.019531</td>\n",
       "      <td>0.009489</td>\n",
       "      <td>0.011435</td>\n",
       "      <td>0.008397</td>\n",
       "      <td>0.006290</td>\n",
       "      <td>0.004602</td>\n",
       "      <td>0.007485</td>\n",
       "      <td>anger</td>\n",
       "    </tr>\n",
       "  </tbody>\n",
       "</table>\n",
       "<p>5 rows × 70 columns</p>\n",
       "</div>"
      ],
      "text/plain": [
       "   Unnamed: 0       ZCR    Energy  Entropy Of Enery  Spectral Centroid  \\\n",
       "0           0  0.140801  0.034542          2.998446           0.219739   \n",
       "1           1  0.143055  0.033249          2.991923           0.224251   \n",
       "2           2  0.132020  0.039794          2.991409           0.209182   \n",
       "3           3  0.148990  0.029246          3.095875           0.214586   \n",
       "4           4  0.144013  0.033666          3.123097           0.215850   \n",
       "\n",
       "        Pitch  Spectral Entropy  Spectral Flux  Spectral Roll-off      MFCC1  \\\n",
       "0  145.967642          1.269595       0.012848           0.238729 -24.386967   \n",
       "1  139.089194          1.372993       0.011736           0.250292 -23.979904   \n",
       "2  125.161082          1.212463       0.013576           0.211296 -24.659123   \n",
       "3   95.731363          1.440230       0.009391           0.247760 -23.407225   \n",
       "4  155.737917          1.357218       0.009991           0.221917 -23.160479   \n",
       "\n",
       "    ...        std26     std27     std28     std29     std30     std31  \\\n",
       "0   ...     0.015261  0.033089  0.023998  0.015884  0.020840  0.010203   \n",
       "1   ...     0.027955  0.025066  0.026130  0.021838  0.009046  0.015774   \n",
       "2   ...     0.017757  0.033223  0.027783  0.017269  0.020207  0.014235   \n",
       "3   ...     0.011519  0.028429  0.014736  0.002561  0.006249  0.012041   \n",
       "4   ...     0.021216  0.016150  0.019531  0.009489  0.011435  0.008397   \n",
       "\n",
       "      std32     std33     std34  Emotion  \n",
       "0  0.012469  0.005193  0.011702    anger  \n",
       "1  0.011017  0.005344  0.012365    anger  \n",
       "2  0.010521  0.005646  0.010771    anger  \n",
       "3  0.010141  0.013420  0.008775    anger  \n",
       "4  0.006290  0.004602  0.007485    anger  \n",
       "\n",
       "[5 rows x 70 columns]"
      ]
     },
     "execution_count": 39,
     "metadata": {},
     "output_type": "execute_result"
    }
   ],
   "source": [
    "emo_df = pd.read_csv('../FeaturesExtraction/dataset_emotion.csv')\n",
    "emo_df.head()"
   ]
  },
  {
   "cell_type": "markdown",
   "metadata": {},
   "source": [
    "## Informacion del dataframe"
   ]
  },
  {
   "cell_type": "code",
   "execution_count": 40,
   "metadata": {},
   "outputs": [
    {
     "name": "stdout",
     "output_type": "stream",
     "text": [
      "<class 'pandas.core.frame.DataFrame'>\n",
      "RangeIndex: 72 entries, 0 to 71\n",
      "Data columns (total 70 columns):\n",
      "Unnamed: 0           72 non-null int64\n",
      "ZCR                  72 non-null float64\n",
      "Energy               72 non-null float64\n",
      "Entropy Of Enery     72 non-null float64\n",
      "Spectral Centroid    72 non-null float64\n",
      "Pitch                72 non-null float64\n",
      "Spectral Entropy     72 non-null float64\n",
      "Spectral Flux        72 non-null float64\n",
      "Spectral Roll-off    72 non-null float64\n",
      "MFCC1                72 non-null float64\n",
      "MFCC2                72 non-null float64\n",
      "MFCC3                72 non-null float64\n",
      "MFCC4                72 non-null float64\n",
      "MFCC5                72 non-null float64\n",
      "MFCC6                72 non-null float64\n",
      "MFCC7                72 non-null float64\n",
      "MFCC8                72 non-null float64\n",
      "MFCC9                72 non-null float64\n",
      "MFCC10               72 non-null float64\n",
      "MFCC11               72 non-null float64\n",
      "MFCC12               72 non-null float64\n",
      "MFCC13               72 non-null float64\n",
      "Chroma Vector1       72 non-null float64\n",
      "Chroma Vector2       72 non-null float64\n",
      "Chroma Vector3       72 non-null float64\n",
      "Chroma Vector4       72 non-null float64\n",
      "Chroma Vector5       72 non-null float64\n",
      "Chroma Vector6       72 non-null float64\n",
      "Chroma Vector7       72 non-null float64\n",
      "Chroma Vector8       72 non-null float64\n",
      "Chroma Vector9       72 non-null float64\n",
      "Chroma Vector10      72 non-null float64\n",
      "Chroma Vector11      72 non-null float64\n",
      "Chroma Vector12      72 non-null float64\n",
      "Chroma Vector std    72 non-null float64\n",
      "std1                 72 non-null float64\n",
      "std2                 72 non-null float64\n",
      "std3                 72 non-null float64\n",
      "std4                 72 non-null float64\n",
      "std5                 72 non-null float64\n",
      "std6                 72 non-null float64\n",
      "std7                 72 non-null float64\n",
      "std8                 72 non-null float64\n",
      "std9                 72 non-null float64\n",
      "std10                72 non-null float64\n",
      "std11                72 non-null float64\n",
      "std12                72 non-null float64\n",
      "std13                72 non-null float64\n",
      "std14                72 non-null float64\n",
      "std15                72 non-null float64\n",
      "std16                72 non-null float64\n",
      "std17                72 non-null float64\n",
      "std18                72 non-null float64\n",
      "std19                72 non-null float64\n",
      "std20                72 non-null float64\n",
      "std21                72 non-null float64\n",
      "std22                72 non-null float64\n",
      "std23                72 non-null float64\n",
      "std24                72 non-null float64\n",
      "std25                72 non-null float64\n",
      "std26                72 non-null float64\n",
      "std27                72 non-null float64\n",
      "std28                72 non-null float64\n",
      "std29                72 non-null float64\n",
      "std30                72 non-null float64\n",
      "std31                72 non-null float64\n",
      "std32                72 non-null float64\n",
      "std33                72 non-null float64\n",
      "std34                72 non-null float64\n",
      "Emotion              72 non-null object\n",
      "dtypes: float64(68), int64(1), object(1)\n",
      "memory usage: 39.5+ KB\n"
     ]
    }
   ],
   "source": [
    "emo_df.info()"
   ]
  },
  {
   "cell_type": "markdown",
   "metadata": {},
   "source": [
    "## Estadisticas del dataframe"
   ]
  },
  {
   "cell_type": "code",
   "execution_count": 41,
   "metadata": {},
   "outputs": [
    {
     "data": {
      "text/html": [
       "<div>\n",
       "<style scoped>\n",
       "    .dataframe tbody tr th:only-of-type {\n",
       "        vertical-align: middle;\n",
       "    }\n",
       "\n",
       "    .dataframe tbody tr th {\n",
       "        vertical-align: top;\n",
       "    }\n",
       "\n",
       "    .dataframe thead th {\n",
       "        text-align: right;\n",
       "    }\n",
       "</style>\n",
       "<table border=\"1\" class=\"dataframe\">\n",
       "  <thead>\n",
       "    <tr style=\"text-align: right;\">\n",
       "      <th></th>\n",
       "      <th>ZCR</th>\n",
       "      <th>Energy</th>\n",
       "      <th>Entropy Of Enery</th>\n",
       "      <th>Spectral Centroid</th>\n",
       "      <th>Pitch</th>\n",
       "      <th>Spectral Entropy</th>\n",
       "      <th>Spectral Flux</th>\n",
       "      <th>Spectral Roll-off</th>\n",
       "      <th>MFCC1</th>\n",
       "      <th>MFCC2</th>\n",
       "      <th>...</th>\n",
       "      <th>std25</th>\n",
       "      <th>std26</th>\n",
       "      <th>std27</th>\n",
       "      <th>std28</th>\n",
       "      <th>std29</th>\n",
       "      <th>std30</th>\n",
       "      <th>std31</th>\n",
       "      <th>std32</th>\n",
       "      <th>std33</th>\n",
       "      <th>std34</th>\n",
       "    </tr>\n",
       "  </thead>\n",
       "  <tbody>\n",
       "    <tr>\n",
       "      <th>count</th>\n",
       "      <td>72.000000</td>\n",
       "      <td>72.000000</td>\n",
       "      <td>72.000000</td>\n",
       "      <td>72.000000</td>\n",
       "      <td>72.000000</td>\n",
       "      <td>72.000000</td>\n",
       "      <td>72.000000</td>\n",
       "      <td>72.000000</td>\n",
       "      <td>72.000000</td>\n",
       "      <td>72.000000</td>\n",
       "      <td>...</td>\n",
       "      <td>72.000000</td>\n",
       "      <td>72.000000</td>\n",
       "      <td>72.000000</td>\n",
       "      <td>72.000000</td>\n",
       "      <td>72.000000</td>\n",
       "      <td>72.000000</td>\n",
       "      <td>72.000000</td>\n",
       "      <td>72.000000</td>\n",
       "      <td>72.000000</td>\n",
       "      <td>72.000000</td>\n",
       "    </tr>\n",
       "    <tr>\n",
       "      <th>mean</th>\n",
       "      <td>0.128884</td>\n",
       "      <td>0.041371</td>\n",
       "      <td>3.032959</td>\n",
       "      <td>0.227062</td>\n",
       "      <td>121.173553</td>\n",
       "      <td>1.082317</td>\n",
       "      <td>0.013225</td>\n",
       "      <td>0.209568</td>\n",
       "      <td>-25.974959</td>\n",
       "      <td>1.411717</td>\n",
       "      <td>...</td>\n",
       "      <td>0.024533</td>\n",
       "      <td>0.022337</td>\n",
       "      <td>0.023095</td>\n",
       "      <td>0.031057</td>\n",
       "      <td>0.009654</td>\n",
       "      <td>0.015103</td>\n",
       "      <td>0.016141</td>\n",
       "      <td>0.020031</td>\n",
       "      <td>0.011807</td>\n",
       "      <td>0.012951</td>\n",
       "    </tr>\n",
       "    <tr>\n",
       "      <th>std</th>\n",
       "      <td>0.027378</td>\n",
       "      <td>0.026066</td>\n",
       "      <td>0.081687</td>\n",
       "      <td>0.028091</td>\n",
       "      <td>34.841668</td>\n",
       "      <td>0.245646</td>\n",
       "      <td>0.004472</td>\n",
       "      <td>0.053355</td>\n",
       "      <td>2.447681</td>\n",
       "      <td>0.579826</td>\n",
       "      <td>...</td>\n",
       "      <td>0.017252</td>\n",
       "      <td>0.011260</td>\n",
       "      <td>0.011267</td>\n",
       "      <td>0.018543</td>\n",
       "      <td>0.006803</td>\n",
       "      <td>0.008084</td>\n",
       "      <td>0.006889</td>\n",
       "      <td>0.009548</td>\n",
       "      <td>0.007804</td>\n",
       "      <td>0.002952</td>\n",
       "    </tr>\n",
       "    <tr>\n",
       "      <th>min</th>\n",
       "      <td>0.075313</td>\n",
       "      <td>0.001962</td>\n",
       "      <td>2.719180</td>\n",
       "      <td>0.165945</td>\n",
       "      <td>63.057092</td>\n",
       "      <td>0.551132</td>\n",
       "      <td>0.007279</td>\n",
       "      <td>0.095914</td>\n",
       "      <td>-32.585694</td>\n",
       "      <td>0.189669</td>\n",
       "      <td>...</td>\n",
       "      <td>0.002943</td>\n",
       "      <td>0.005125</td>\n",
       "      <td>0.005612</td>\n",
       "      <td>0.005746</td>\n",
       "      <td>0.001637</td>\n",
       "      <td>0.003105</td>\n",
       "      <td>0.003363</td>\n",
       "      <td>0.003749</td>\n",
       "      <td>0.001290</td>\n",
       "      <td>0.006121</td>\n",
       "    </tr>\n",
       "    <tr>\n",
       "      <th>25%</th>\n",
       "      <td>0.110508</td>\n",
       "      <td>0.023884</td>\n",
       "      <td>2.991900</td>\n",
       "      <td>0.210356</td>\n",
       "      <td>98.585313</td>\n",
       "      <td>0.951326</td>\n",
       "      <td>0.010690</td>\n",
       "      <td>0.176141</td>\n",
       "      <td>-27.153698</td>\n",
       "      <td>0.991792</td>\n",
       "      <td>...</td>\n",
       "      <td>0.010850</td>\n",
       "      <td>0.012995</td>\n",
       "      <td>0.013680</td>\n",
       "      <td>0.019242</td>\n",
       "      <td>0.004062</td>\n",
       "      <td>0.008373</td>\n",
       "      <td>0.011450</td>\n",
       "      <td>0.012101</td>\n",
       "      <td>0.006071</td>\n",
       "      <td>0.011330</td>\n",
       "    </tr>\n",
       "    <tr>\n",
       "      <th>50%</th>\n",
       "      <td>0.126534</td>\n",
       "      <td>0.037128</td>\n",
       "      <td>3.031428</td>\n",
       "      <td>0.224596</td>\n",
       "      <td>111.615145</td>\n",
       "      <td>1.103044</td>\n",
       "      <td>0.012847</td>\n",
       "      <td>0.209284</td>\n",
       "      <td>-25.526687</td>\n",
       "      <td>1.414974</td>\n",
       "      <td>...</td>\n",
       "      <td>0.021200</td>\n",
       "      <td>0.021091</td>\n",
       "      <td>0.023091</td>\n",
       "      <td>0.026187</td>\n",
       "      <td>0.008365</td>\n",
       "      <td>0.014109</td>\n",
       "      <td>0.014587</td>\n",
       "      <td>0.018875</td>\n",
       "      <td>0.009087</td>\n",
       "      <td>0.012844</td>\n",
       "    </tr>\n",
       "    <tr>\n",
       "      <th>75%</th>\n",
       "      <td>0.144206</td>\n",
       "      <td>0.053501</td>\n",
       "      <td>3.075124</td>\n",
       "      <td>0.244760</td>\n",
       "      <td>139.083907</td>\n",
       "      <td>1.238003</td>\n",
       "      <td>0.014331</td>\n",
       "      <td>0.245243</td>\n",
       "      <td>-24.348523</td>\n",
       "      <td>1.876390</td>\n",
       "      <td>...</td>\n",
       "      <td>0.034029</td>\n",
       "      <td>0.028626</td>\n",
       "      <td>0.030857</td>\n",
       "      <td>0.040446</td>\n",
       "      <td>0.013148</td>\n",
       "      <td>0.021376</td>\n",
       "      <td>0.020206</td>\n",
       "      <td>0.025527</td>\n",
       "      <td>0.014933</td>\n",
       "      <td>0.014071</td>\n",
       "    </tr>\n",
       "    <tr>\n",
       "      <th>max</th>\n",
       "      <td>0.202983</td>\n",
       "      <td>0.127113</td>\n",
       "      <td>3.200351</td>\n",
       "      <td>0.284338</td>\n",
       "      <td>215.937222</td>\n",
       "      <td>1.819280</td>\n",
       "      <td>0.034300</td>\n",
       "      <td>0.371083</td>\n",
       "      <td>-22.570052</td>\n",
       "      <td>2.440473</td>\n",
       "      <td>...</td>\n",
       "      <td>0.087338</td>\n",
       "      <td>0.054139</td>\n",
       "      <td>0.054628</td>\n",
       "      <td>0.082119</td>\n",
       "      <td>0.036587</td>\n",
       "      <td>0.035333</td>\n",
       "      <td>0.032825</td>\n",
       "      <td>0.047541</td>\n",
       "      <td>0.040294</td>\n",
       "      <td>0.020213</td>\n",
       "    </tr>\n",
       "  </tbody>\n",
       "</table>\n",
       "<p>8 rows × 68 columns</p>\n",
       "</div>"
      ],
      "text/plain": [
       "             ZCR     Energy  Entropy Of Enery  Spectral Centroid       Pitch  \\\n",
       "count  72.000000  72.000000         72.000000          72.000000   72.000000   \n",
       "mean    0.128884   0.041371          3.032959           0.227062  121.173553   \n",
       "std     0.027378   0.026066          0.081687           0.028091   34.841668   \n",
       "min     0.075313   0.001962          2.719180           0.165945   63.057092   \n",
       "25%     0.110508   0.023884          2.991900           0.210356   98.585313   \n",
       "50%     0.126534   0.037128          3.031428           0.224596  111.615145   \n",
       "75%     0.144206   0.053501          3.075124           0.244760  139.083907   \n",
       "max     0.202983   0.127113          3.200351           0.284338  215.937222   \n",
       "\n",
       "       Spectral Entropy  Spectral Flux  Spectral Roll-off      MFCC1  \\\n",
       "count         72.000000      72.000000          72.000000  72.000000   \n",
       "mean           1.082317       0.013225           0.209568 -25.974959   \n",
       "std            0.245646       0.004472           0.053355   2.447681   \n",
       "min            0.551132       0.007279           0.095914 -32.585694   \n",
       "25%            0.951326       0.010690           0.176141 -27.153698   \n",
       "50%            1.103044       0.012847           0.209284 -25.526687   \n",
       "75%            1.238003       0.014331           0.245243 -24.348523   \n",
       "max            1.819280       0.034300           0.371083 -22.570052   \n",
       "\n",
       "           MFCC2    ...          std25      std26      std27      std28  \\\n",
       "count  72.000000    ...      72.000000  72.000000  72.000000  72.000000   \n",
       "mean    1.411717    ...       0.024533   0.022337   0.023095   0.031057   \n",
       "std     0.579826    ...       0.017252   0.011260   0.011267   0.018543   \n",
       "min     0.189669    ...       0.002943   0.005125   0.005612   0.005746   \n",
       "25%     0.991792    ...       0.010850   0.012995   0.013680   0.019242   \n",
       "50%     1.414974    ...       0.021200   0.021091   0.023091   0.026187   \n",
       "75%     1.876390    ...       0.034029   0.028626   0.030857   0.040446   \n",
       "max     2.440473    ...       0.087338   0.054139   0.054628   0.082119   \n",
       "\n",
       "           std29      std30      std31      std32      std33      std34  \n",
       "count  72.000000  72.000000  72.000000  72.000000  72.000000  72.000000  \n",
       "mean    0.009654   0.015103   0.016141   0.020031   0.011807   0.012951  \n",
       "std     0.006803   0.008084   0.006889   0.009548   0.007804   0.002952  \n",
       "min     0.001637   0.003105   0.003363   0.003749   0.001290   0.006121  \n",
       "25%     0.004062   0.008373   0.011450   0.012101   0.006071   0.011330  \n",
       "50%     0.008365   0.014109   0.014587   0.018875   0.009087   0.012844  \n",
       "75%     0.013148   0.021376   0.020206   0.025527   0.014933   0.014071  \n",
       "max     0.036587   0.035333   0.032825   0.047541   0.040294   0.020213  \n",
       "\n",
       "[8 rows x 68 columns]"
      ]
     },
     "execution_count": 41,
     "metadata": {},
     "output_type": "execute_result"
    }
   ],
   "source": [
    "emo_df.iloc[0:,1:69].describe()"
   ]
  },
  {
   "cell_type": "markdown",
   "metadata": {},
   "source": [
    "## Mapeamos la ultima columna con valores enteros"
   ]
  },
  {
   "cell_type": "code",
   "execution_count": 42,
   "metadata": {},
   "outputs": [],
   "source": [
    "mapping = {'anger':0, 'sadness':1,'disgust':2,'fear':3,'hapiness':4,'surprice':5}\n",
    "emo_df['Emotion'] = emo_df['Emotion'].map(mapping)"
   ]
  },
  {
   "cell_type": "markdown",
   "metadata": {},
   "source": [
    "## Separacion del conjunto de datos"
   ]
  },
  {
   "cell_type": "code",
   "execution_count": 43,
   "metadata": {},
   "outputs": [],
   "source": [
    "\n",
    "X = emo_df.iloc[0:,1:69].values #Obtenemos los valores correspondientes a una columna particular\n",
    "y = emo_df.Emotion                  # Etiquetas correspondientes a cada columna\n",
    "\n",
    "X_entrenamiento, X_prueba, y_entrenamiento, y_prueba = train_test_split(\n",
    "    X, y, random_state=0)"
   ]
  },
  {
   "cell_type": "code",
   "execution_count": 44,
   "metadata": {},
   "outputs": [
    {
     "name": "stdout",
     "output_type": "stream",
     "text": [
      "Forma de X_entrenamiento: (54, 68)\n",
      "Forma de y_entrenamiento: (54,)\n"
     ]
    }
   ],
   "source": [
    "print(\"Forma de X_entrenamiento: {}\".format(X_entrenamiento.shape))\n",
    "print(\"Forma de y_entrenamiento: {}\".format(y_entrenamiento.shape))"
   ]
  },
  {
   "cell_type": "code",
   "execution_count": 45,
   "metadata": {},
   "outputs": [
    {
     "name": "stdout",
     "output_type": "stream",
     "text": [
      "Forma de X_prueba: (18, 68)\n",
      "Forma de y_prueba: (18,)\n"
     ]
    }
   ],
   "source": [
    "print(\"Forma de X_prueba: {}\".format(X_prueba.shape))\n",
    "print(\"Forma de y_prueba: {}\".format(y_prueba.shape))"
   ]
  },
  {
   "cell_type": "markdown",
   "metadata": {},
   "source": [
    "## Seleccion de los Hiper-Parametros"
   ]
  },
  {
   "cell_type": "code",
   "execution_count": 46,
   "metadata": {},
   "outputs": [
    {
     "name": "stdout",
     "output_type": "stream",
     "text": [
      "# Selección de los hiperparámetros\n",
      "\n"
     ]
    },
    {
     "name": "stderr",
     "output_type": "stream",
     "text": [
      "/home/neriomoran/anaconda3/lib/python3.6/site-packages/sklearn/model_selection/_split.py:605: Warning: The least populated class in y has only 1 members, which is too few. The minimum number of members in any class cannot be less than n_splits=2.\n",
      "  % (min_groups, self.n_splits)), Warning)\n"
     ]
    },
    {
     "name": "stdout",
     "output_type": "stream",
     "text": [
      "Mejores parametros encontrados para el conjunto de validación:\n",
      "\n",
      "{'C': 1, 'kernel': 'linear'}\n",
      "\n",
      "Valores de exactitud sobre el conjunto de entrenamineto:\n",
      "\n",
      "0.296 (+/-0.118) for {'C': 1, 'gamma': 0.0001, 'kernel': 'rbf'}\n",
      "0.389 (+/-0.021) for {'C': 1, 'gamma': 0.001, 'kernel': 'rbf'}\n",
      "0.333 (+/-0.050) for {'C': 1, 'gamma': 0.01, 'kernel': 'rbf'}\n",
      "0.241 (+/-0.001) for {'C': 1, 'gamma': 0.1, 'kernel': 'rbf'}\n",
      "0.241 (+/-0.001) for {'C': 1, 'gamma': 0.2, 'kernel': 'rbf'}\n",
      "0.241 (+/-0.001) for {'C': 1, 'gamma': 0.5, 'kernel': 'rbf'}\n",
      "0.352 (+/-0.015) for {'C': 10, 'gamma': 0.0001, 'kernel': 'rbf'}\n",
      "0.333 (+/-0.099) for {'C': 10, 'gamma': 0.001, 'kernel': 'rbf'}\n",
      "0.333 (+/-0.050) for {'C': 10, 'gamma': 0.01, 'kernel': 'rbf'}\n",
      "0.241 (+/-0.001) for {'C': 10, 'gamma': 0.1, 'kernel': 'rbf'}\n",
      "0.241 (+/-0.001) for {'C': 10, 'gamma': 0.2, 'kernel': 'rbf'}\n",
      "0.241 (+/-0.001) for {'C': 10, 'gamma': 0.5, 'kernel': 'rbf'}\n",
      "0.315 (+/-0.232) for {'C': 100, 'gamma': 0.0001, 'kernel': 'rbf'}\n",
      "0.315 (+/-0.065) for {'C': 100, 'gamma': 0.001, 'kernel': 'rbf'}\n",
      "0.333 (+/-0.050) for {'C': 100, 'gamma': 0.01, 'kernel': 'rbf'}\n",
      "0.241 (+/-0.001) for {'C': 100, 'gamma': 0.1, 'kernel': 'rbf'}\n",
      "0.241 (+/-0.001) for {'C': 100, 'gamma': 0.2, 'kernel': 'rbf'}\n",
      "0.241 (+/-0.001) for {'C': 100, 'gamma': 0.5, 'kernel': 'rbf'}\n",
      "0.296 (+/-0.118) for {'C': 1000, 'gamma': 0.0001, 'kernel': 'rbf'}\n",
      "0.296 (+/-0.105) for {'C': 1000, 'gamma': 0.001, 'kernel': 'rbf'}\n",
      "0.333 (+/-0.050) for {'C': 1000, 'gamma': 0.01, 'kernel': 'rbf'}\n",
      "0.241 (+/-0.001) for {'C': 1000, 'gamma': 0.1, 'kernel': 'rbf'}\n",
      "0.241 (+/-0.001) for {'C': 1000, 'gamma': 0.2, 'kernel': 'rbf'}\n",
      "0.241 (+/-0.001) for {'C': 1000, 'gamma': 0.5, 'kernel': 'rbf'}\n",
      "0.426 (+/-0.100) for {'C': 1, 'kernel': 'linear'}\n",
      "0.370 (+/-0.204) for {'C': 10, 'kernel': 'linear'}\n",
      "0.370 (+/-0.204) for {'C': 100, 'kernel': 'linear'}\n",
      "0.370 (+/-0.204) for {'C': 1000, 'kernel': 'linear'}\n",
      "0.278 (+/-0.070) for {'C': 1, 'degree': 3, 'gamma': 0.0001, 'kernel': 'poly'}\n",
      "0.352 (+/-0.015) for {'C': 1, 'degree': 3, 'gamma': 0.001, 'kernel': 'poly'}\n",
      "0.333 (+/-0.025) for {'C': 1, 'degree': 3, 'gamma': 0.01, 'kernel': 'poly'}\n",
      "0.333 (+/-0.025) for {'C': 1, 'degree': 3, 'gamma': 0.1, 'kernel': 'poly'}\n",
      "0.333 (+/-0.025) for {'C': 1, 'degree': 3, 'gamma': 0.2, 'kernel': 'poly'}\n",
      "0.333 (+/-0.025) for {'C': 1, 'degree': 3, 'gamma': 0.5, 'kernel': 'poly'}\n",
      "0.333 (+/-0.198) for {'C': 1, 'degree': 5, 'gamma': 0.0001, 'kernel': 'poly'}\n",
      "0.278 (+/-0.004) for {'C': 1, 'degree': 5, 'gamma': 0.001, 'kernel': 'poly'}\n",
      "0.278 (+/-0.004) for {'C': 1, 'degree': 5, 'gamma': 0.01, 'kernel': 'poly'}\n",
      "0.278 (+/-0.004) for {'C': 1, 'degree': 5, 'gamma': 0.1, 'kernel': 'poly'}\n",
      "0.278 (+/-0.004) for {'C': 1, 'degree': 5, 'gamma': 0.2, 'kernel': 'poly'}\n",
      "0.278 (+/-0.004) for {'C': 1, 'degree': 5, 'gamma': 0.5, 'kernel': 'poly'}\n",
      "0.315 (+/-0.010) for {'C': 1, 'degree': 7, 'gamma': 0.0001, 'kernel': 'poly'}\n",
      "0.296 (+/-0.044) for {'C': 1, 'degree': 7, 'gamma': 0.001, 'kernel': 'poly'}\n",
      "0.296 (+/-0.044) for {'C': 1, 'degree': 7, 'gamma': 0.01, 'kernel': 'poly'}\n",
      "0.296 (+/-0.044) for {'C': 1, 'degree': 7, 'gamma': 0.1, 'kernel': 'poly'}\n",
      "0.296 (+/-0.044) for {'C': 1, 'degree': 7, 'gamma': 0.2, 'kernel': 'poly'}\n",
      "0.296 (+/-0.044) for {'C': 1, 'degree': 7, 'gamma': 0.5, 'kernel': 'poly'}\n",
      "0.222 (+/-0.033) for {'C': 10, 'degree': 3, 'gamma': 0.0001, 'kernel': 'poly'}\n",
      "0.333 (+/-0.025) for {'C': 10, 'degree': 3, 'gamma': 0.001, 'kernel': 'poly'}\n",
      "0.333 (+/-0.025) for {'C': 10, 'degree': 3, 'gamma': 0.01, 'kernel': 'poly'}\n",
      "0.333 (+/-0.025) for {'C': 10, 'degree': 3, 'gamma': 0.1, 'kernel': 'poly'}\n",
      "0.333 (+/-0.025) for {'C': 10, 'degree': 3, 'gamma': 0.2, 'kernel': 'poly'}\n",
      "0.333 (+/-0.025) for {'C': 10, 'degree': 3, 'gamma': 0.5, 'kernel': 'poly'}\n",
      "0.333 (+/-0.124) for {'C': 10, 'degree': 5, 'gamma': 0.0001, 'kernel': 'poly'}\n",
      "0.278 (+/-0.004) for {'C': 10, 'degree': 5, 'gamma': 0.001, 'kernel': 'poly'}\n",
      "0.278 (+/-0.004) for {'C': 10, 'degree': 5, 'gamma': 0.01, 'kernel': 'poly'}\n",
      "0.278 (+/-0.004) for {'C': 10, 'degree': 5, 'gamma': 0.1, 'kernel': 'poly'}\n",
      "0.278 (+/-0.004) for {'C': 10, 'degree': 5, 'gamma': 0.2, 'kernel': 'poly'}\n",
      "0.278 (+/-0.004) for {'C': 10, 'degree': 5, 'gamma': 0.5, 'kernel': 'poly'}\n",
      "0.333 (+/-0.099) for {'C': 10, 'degree': 7, 'gamma': 0.0001, 'kernel': 'poly'}\n",
      "0.296 (+/-0.044) for {'C': 10, 'degree': 7, 'gamma': 0.001, 'kernel': 'poly'}\n",
      "0.296 (+/-0.044) for {'C': 10, 'degree': 7, 'gamma': 0.01, 'kernel': 'poly'}\n",
      "0.296 (+/-0.044) for {'C': 10, 'degree': 7, 'gamma': 0.1, 'kernel': 'poly'}\n",
      "0.296 (+/-0.044) for {'C': 10, 'degree': 7, 'gamma': 0.2, 'kernel': 'poly'}\n",
      "0.296 (+/-0.044) for {'C': 10, 'degree': 7, 'gamma': 0.5, 'kernel': 'poly'}\n",
      "0.333 (+/-0.124) for {'C': 100, 'degree': 3, 'gamma': 0.0001, 'kernel': 'poly'}\n",
      "0.333 (+/-0.025) for {'C': 100, 'degree': 3, 'gamma': 0.001, 'kernel': 'poly'}\n",
      "0.333 (+/-0.025) for {'C': 100, 'degree': 3, 'gamma': 0.01, 'kernel': 'poly'}\n",
      "0.333 (+/-0.025) for {'C': 100, 'degree': 3, 'gamma': 0.1, 'kernel': 'poly'}\n",
      "0.333 (+/-0.025) for {'C': 100, 'degree': 3, 'gamma': 0.2, 'kernel': 'poly'}\n",
      "0.333 (+/-0.025) for {'C': 100, 'degree': 3, 'gamma': 0.5, 'kernel': 'poly'}\n",
      "0.259 (+/-0.036) for {'C': 100, 'degree': 5, 'gamma': 0.0001, 'kernel': 'poly'}\n",
      "0.278 (+/-0.004) for {'C': 100, 'degree': 5, 'gamma': 0.001, 'kernel': 'poly'}\n",
      "0.278 (+/-0.004) for {'C': 100, 'degree': 5, 'gamma': 0.01, 'kernel': 'poly'}\n",
      "0.278 (+/-0.004) for {'C': 100, 'degree': 5, 'gamma': 0.1, 'kernel': 'poly'}\n",
      "0.278 (+/-0.004) for {'C': 100, 'degree': 5, 'gamma': 0.2, 'kernel': 'poly'}\n",
      "0.278 (+/-0.004) for {'C': 100, 'degree': 5, 'gamma': 0.5, 'kernel': 'poly'}\n",
      "0.296 (+/-0.044) for {'C': 100, 'degree': 7, 'gamma': 0.0001, 'kernel': 'poly'}\n",
      "0.296 (+/-0.044) for {'C': 100, 'degree': 7, 'gamma': 0.001, 'kernel': 'poly'}\n",
      "0.296 (+/-0.044) for {'C': 100, 'degree': 7, 'gamma': 0.01, 'kernel': 'poly'}\n",
      "0.296 (+/-0.044) for {'C': 100, 'degree': 7, 'gamma': 0.1, 'kernel': 'poly'}\n",
      "0.296 (+/-0.044) for {'C': 100, 'degree': 7, 'gamma': 0.2, 'kernel': 'poly'}\n",
      "0.296 (+/-0.044) for {'C': 100, 'degree': 7, 'gamma': 0.5, 'kernel': 'poly'}\n",
      "0.352 (+/-0.015) for {'C': 1000, 'degree': 3, 'gamma': 0.0001, 'kernel': 'poly'}\n",
      "0.333 (+/-0.025) for {'C': 1000, 'degree': 3, 'gamma': 0.001, 'kernel': 'poly'}\n",
      "0.333 (+/-0.025) for {'C': 1000, 'degree': 3, 'gamma': 0.01, 'kernel': 'poly'}\n",
      "0.333 (+/-0.025) for {'C': 1000, 'degree': 3, 'gamma': 0.1, 'kernel': 'poly'}\n",
      "0.333 (+/-0.025) for {'C': 1000, 'degree': 3, 'gamma': 0.2, 'kernel': 'poly'}\n",
      "0.333 (+/-0.025) for {'C': 1000, 'degree': 3, 'gamma': 0.5, 'kernel': 'poly'}\n",
      "0.278 (+/-0.004) for {'C': 1000, 'degree': 5, 'gamma': 0.0001, 'kernel': 'poly'}\n",
      "0.278 (+/-0.004) for {'C': 1000, 'degree': 5, 'gamma': 0.001, 'kernel': 'poly'}\n",
      "0.278 (+/-0.004) for {'C': 1000, 'degree': 5, 'gamma': 0.01, 'kernel': 'poly'}\n",
      "0.278 (+/-0.004) for {'C': 1000, 'degree': 5, 'gamma': 0.1, 'kernel': 'poly'}\n",
      "0.278 (+/-0.004) for {'C': 1000, 'degree': 5, 'gamma': 0.2, 'kernel': 'poly'}\n",
      "0.278 (+/-0.004) for {'C': 1000, 'degree': 5, 'gamma': 0.5, 'kernel': 'poly'}\n",
      "0.296 (+/-0.044) for {'C': 1000, 'degree': 7, 'gamma': 0.0001, 'kernel': 'poly'}\n",
      "0.296 (+/-0.044) for {'C': 1000, 'degree': 7, 'gamma': 0.001, 'kernel': 'poly'}\n",
      "0.296 (+/-0.044) for {'C': 1000, 'degree': 7, 'gamma': 0.01, 'kernel': 'poly'}\n",
      "0.296 (+/-0.044) for {'C': 1000, 'degree': 7, 'gamma': 0.1, 'kernel': 'poly'}\n",
      "0.296 (+/-0.044) for {'C': 1000, 'degree': 7, 'gamma': 0.2, 'kernel': 'poly'}\n",
      "0.296 (+/-0.044) for {'C': 1000, 'degree': 7, 'gamma': 0.5, 'kernel': 'poly'}\n",
      "\n"
     ]
    }
   ],
   "source": [
    "from sklearn.model_selection import train_test_split\n",
    "from sklearn.model_selection import GridSearchCV\n",
    "from sklearn.metrics import classification_report\n",
    "\n",
    "\n",
    "\n",
    "# Fijar los parametros para la validación cruzada\n",
    "parameters = [{'kernel': ['rbf'],\n",
    "               'gamma': [1e-4, 1e-3, 0.01, 0.1, 0.2, 0.5],\n",
    "                'C': [1, 10, 100, 1000]},\n",
    "              {'kernel': ['linear'], 'C': [1, 10, 100, 1000]},\n",
    "             {'kernel': ['poly'],\n",
    "              'gamma': [1e-4, 1e-3, 0.01, 0.1, 0.2, 0.5],\n",
    "             'degree': [3, 5, 7],\n",
    "             'C': [1, 10, 100, 1000]}]\n",
    "\n",
    "print(\"# Selección de los hiperparámetros\")\n",
    "print()\n",
    "\n",
    "clf = GridSearchCV(svm.SVC(decision_function_shape='ovr'), parameters, cv=2)\n",
    "clf.fit(X_entrenamiento, y_entrenamiento)\n",
    "\n",
    "print(\"Mejores parametros encontrados para el conjunto de validación:\")\n",
    "print()\n",
    "print(clf.best_params_)\n",
    "print()\n",
    "print(\"Valores de exactitud sobre el conjunto de entrenamineto:\")\n",
    "print()\n",
    "means = clf.cv_results_['mean_test_score']\n",
    "stds = clf.cv_results_['std_test_score']\n",
    "for mean, std, params in zip(means, stds, clf.cv_results_['params']):\n",
    "    print(\"%0.3f (+/-%0.03f) for %r\"\n",
    "          % (mean, std * 2, params))\n",
    "print()"
   ]
  },
  {
   "cell_type": "markdown",
   "metadata": {},
   "source": [
    "## Construccion del Modelo\n"
   ]
  },
  {
   "cell_type": "code",
   "execution_count": 47,
   "metadata": {},
   "outputs": [
    {
     "data": {
      "text/plain": [
       "0.3888888888888889"
      ]
     },
     "execution_count": 47,
     "metadata": {},
     "output_type": "execute_result"
    }
   ],
   "source": [
    "# Create the SVC model object\n",
    "C = 1.0 # SVM regularization parameter\n",
    "svc = svm.SVC(kernel='rbf', C=C, decision_function_shape='ovr').fit(X_entrenamiento, y_entrenamiento)\n",
    "svc.score(X_prueba,y_prueba)\n",
    "\n"
   ]
  },
  {
   "cell_type": "code",
   "execution_count": 48,
   "metadata": {},
   "outputs": [
    {
     "data": {
      "text/plain": [
       "0.44444444444444442"
      ]
     },
     "execution_count": 48,
     "metadata": {},
     "output_type": "execute_result"
    }
   ],
   "source": [
    "C = 1.0 # SVM regularization parameter\n",
    "svc = svm.SVC(kernel='poly', C=C, decision_function_shape='ovr').fit(X_entrenamiento, y_entrenamiento)\n",
    "svc.score(X_prueba,y_prueba)\n"
   ]
  },
  {
   "cell_type": "code",
   "execution_count": 49,
   "metadata": {},
   "outputs": [
    {
     "data": {
      "text/plain": [
       "0.55555555555555558"
      ]
     },
     "execution_count": 49,
     "metadata": {},
     "output_type": "execute_result"
    }
   ],
   "source": [
    "C = 1.0 # SVM regularization parameter\n",
    "svc = svm.SVC(kernel='linear', C=C, decision_function_shape='ovr').fit(X_entrenamiento, y_entrenamiento)\n",
    "svc.score(X_prueba,y_prueba)"
   ]
  },
  {
   "cell_type": "markdown",
   "metadata": {},
   "source": [
    "## Haciendo predicciones"
   ]
  },
  {
   "cell_type": "markdown",
   "metadata": {},
   "source": [
    "## Matriz de confuncion"
   ]
  }
 ],
 "metadata": {
  "kernelspec": {
   "display_name": "Python 3",
   "language": "python",
   "name": "python3"
  },
  "language_info": {
   "codemirror_mode": {
    "name": "ipython",
    "version": 3
   },
   "file_extension": ".py",
   "mimetype": "text/x-python",
   "name": "python",
   "nbconvert_exporter": "python",
   "pygments_lexer": "ipython3",
   "version": "3.6.3"
  }
 },
 "nbformat": 4,
 "nbformat_minor": 2
}
